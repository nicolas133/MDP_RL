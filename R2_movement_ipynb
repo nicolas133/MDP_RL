import numpy as np
import time
import logging
from Rosmaster_Lib import Rosmaster

# Create the Rosmaster object bot
bot = Rosmaster()
bot.set_pwm_servo(1, 100)
time.sleep(2)
bot.set_pwm_servo(1, 90)
time.sleep(2)
bot.set_pwm_servo(1, 80)
time.sleep(2)
bot.set_car_motion(0, 0, 0)  # resets wheel
time.sleep(2)  # do nothing

# from Policy_iteration import optimal_action_list

optimal_action_list = [3, 3, 0, 0, 0, 0, 0, 3, 0, 3, 3, 3, 3]


# find reference position
ref_point_x = 0
ref_point_y = 0
ref_points = [[0,0]]

for elem in optimal_action_list:
    print(f"current action - {elem}")
    if elem == 0:
        ref_point_x-=1
        ref_points.append([ref_point_x, ref_point_y])
        print(f"ref_point = {ref_points}")
    if elem == 1:
        ref_point_y-=1
        ref_points.append([ref_point_x, ref_point_y])
        print(f"ref_point = {ref_points}")
    if elem == 2:
        ref_point_x+=1
        ref_points.append([ref_point_x, ref_point_y])
        print(f"ref_point = {ref_points}")
    if elem == 3:
        ref_point_y+=1
        ref_points.append([ref_point_x, ref_point_y])
        print(f"ref_point = {ref_points}")

ref_points = [ref_point_x, ref_point_y]
print(f"reference points: {ref_points} ")


# prints the action performed by the Rosmaster R2
def sendAction(action):
    if action == 0:
        print(f"R2 will perform this action: Turn Left")
        time.sleep(2)
        bot.set_pwm_servo(1, 80)  # set wheels straight
        time.sleep(2)
        bot.set_car_motion(0.3, 10, 0)  # left turn action
        time.sleep(2.3)  # controls how long car turns left
        ###############################
        bot.set_car_motion(0, 0, 0)  # turn off motor
        time.sleep(1)
        bot.set_pwm_servo(1, 80)  # set wheels straight
        time.sleep(2)
        # turn motor off
        bot.set_car_motion(0, 0, 0)

    if action == 1:
        print(f"R2 will perform this action: Drive Backward")
    if action == 2:
        print(f"R2 will perform this action: Turn Right")
        time.sleep(2)
        bot.set_pwm_servo(1, 80)  # set wheels straight
        time.sleep(2)
        bot.set_car_motion(0.2, -10, 0)  # right turn action
        time.sleep(3.35)  # controls how long car turns left
        ###############################
        bot.set_car_motion(0, 0, 0)  # turn off motor
        time.sleep(1)
        bot.set_pwm_servo(1, 80)  # set wheels straight
        time.sleep(2)
        # turn motor off
        bot.set_car_motion(0, 0, 0)

    if action == 3:
        print(f"R2 will perform this action: Drive Forward")
        time.sleep(2)
        bot.set_car_motion(1, 0, 0)  #
        time.sleep(.25)
        # time.sleep(.225)
        bot.set_car_motion(0, 0, 0)


orientation_list = []

orientation_count = 3
# alters actions for input on the Rosmaster R2 based on orientation
for action in optimal_action_list:
    print(f"CURRENTLY READING ACTION = {action}")
    # Assume start facing North
    # this loops back to 0 once you've made a full revolution
    orientation_count = orientation_count % 4
    # this loops back to 0 once you've made a full revolution
    orientation = orientation_count % 4
    print(f"orientation count = {orientation_count}")

    # if turning left or right, switch orientation by rearranding the values of O_A_L
    face_N = {0: 0, 1: 1, 2: 2, 3: 3}
    face_W = {0: 3, 1: 0, 2: 1, 3: 2}
    face_S = {0: 2, 1: 3, 2: 0, 3: 1}
    face_E = {0: 1, 1: 2, 2: 3, 3: 0}

    # perform your action based on your current orientation - corresponds with L,D,R,U = 0,1,2,3
    if orientation == 0:
        # change orientation count LEFT
        if face_W[action] == 0:
            orientation_count += 1
        # change orientation count right
        if face_W[action] == 2:
            orientation_count -= 1

        sendAction(face_W[action])
        orientation_list.append(270)
        print(f"I am currently facing West!\n")

    if orientation == 1:
        # change orientation count LEFT
        if face_S[action] == 0:
            orientation_count += 1
        # change orientation count RIGHT
        if face_S[action] == 2:
            orientation_count -= 1

        sendAction(face_S[action])
        orientation_list.append(180)
        print(f"I am currently facing South!\n")

    if orientation == 2:
        # change orientation count LEFT
        if face_E[action] == 0:
            orientation_count += 1
        # change orientation count RIGHT
        if face_E[action] == 2:
            orientation_count = -1

        sendAction(face_E[action])
        orientation_list.append(90)
        print(f"I am currently facing East!\n")

    if orientation == 3:
        # change orientation count LEFT
        if face_N[action] == 0:
            orientation_count += 1
        # change orientation count RIGHT
        if face_N[action] == 2:
            orientation_count -= 1

        sendAction(face_N[action])
        orientation_list.append(0)
        print(f"I am currently facing North!\n")

    bot.set_car_motion(0, 0, 1)  # reset wheel

    del bot

